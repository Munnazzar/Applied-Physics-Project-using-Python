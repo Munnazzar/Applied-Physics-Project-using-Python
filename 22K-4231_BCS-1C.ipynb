{
  "metadata": {
    "language_info": {
      "codemirror_mode": {
        "name": "python",
        "version": 3
      },
      "file_extension": ".py",
      "mimetype": "text/x-python",
      "name": "python",
      "nbconvert_exporter": "python",
      "pygments_lexer": "ipython3",
      "version": "3.8"
    },
    "kernelspec": {
      "name": "python",
      "display_name": "Python (Pyodide)",
      "language": "python"
    }
  },
  "nbformat_minor": 4,
  "nbformat": 4,
  "cells": [
    {
      "cell_type": "markdown",
      "source": "# ID :- 22K-4231",
      "metadata": {}
    },
    {
      "cell_type": "markdown",
      "source": "# AP PROJECT",
      "metadata": {}
    },
    {
      "cell_type": "markdown",
      "source": "# Applied Physics Assignment-1\n##        Vectors",
      "metadata": {}
    },
    {
      "cell_type": "markdown",
      "source": "## 1. A displacement vector in the xy plane is 4.3 m long and directed at angle of 40° in Fig.1.\n## Determine (a) the x component and (b) the y component of the vector.",
      "metadata": {}
    },
    {
      "cell_type": "markdown",
      "source": "![fig1.PNG](attachment:bad5ea9d-0ce4-40ed-b4b7-02b93ce253ba.PNG)",
      "metadata": {},
      "attachments": {
        "bad5ea9d-0ce4-40ed-b4b7-02b93ce253ba.PNG": {
          "image/png": "[encoded data removed]"
        }
      }
    },
    {
      "cell_type": "code",
      "source": "import math\nimport numpy as np\n\ndef x_comp(magnitude,angle):\n    xcomp= magnitude*math.cos(angle)\n    return xcomp\ndef y_comp(magnitude,angle):\n    ycomp = magnitude*math.sin(angle)\n    return ycomp\n\nv = 4.3\nangle = 40\nangle = math.radians(angle)\n\nxcomp = x_comp(v,angle)\nycomp = y_comp(v,angle)\n\nprint(\"The x component is\" ,round(xcomp,2), \"The y component is\", round(ycomp,2))",
      "metadata": {
        "trusted": true
      },
      "execution_count": 97,
      "outputs": [
        {
          "name": "stdout",
          "text": "The x component is 3.29 The y component is 2.76\n",
          "output_type": "stream"
        }
      ]
    },
    {
      "cell_type": "markdown",
      "source": "## 2 . The two vectors a and b in Fig-2 have equal magnitudes of 10m and the angles are θ1=35 and θ1= 102. Find the (a) x and y components of their vector sum r (b) the magnitude of r and (c) the angle r makes with the positive direction of the x axis\n![fig2.PNG](attachment:f8b4e117-067a-4066-af31-6763c396285f.PNG)",
      "metadata": {
        "tags": []
      },
      "attachments": {
        "f8b4e117-067a-4066-af31-6763c396285f.PNG": {
          "image/png": "[encoded data removed]"
        }
      }
    },
    {
      "cell_type": "code",
      "source": "def direction(x,y):\n    angle=math.degrees(math.atan(y/x))\n    return angle\n\ndef magnitude(a,b):\n    result = math.sqrt((a*a)+(b*b))\n    return result\n\ntheta1 = math.radians(35)\ntheta2 = math.radians(137)\n\na = 10\nb = 10\n\nax = x_comp(a,theta1)\nay = y_comp(a,theta1)\nbx = x_comp(b,theta2)\nby = y_comp(b,theta2)\n\nrx = ax+bx\nry = ay+by\n\nr = magnitude(rx,ry)\n\ndirection = direction(rx,ry)\n\nprint(\"X component of resultant vector\", round(rx,2))\nprint(\"Y component of resultant vector\" ,round(ry,2))\nprint(\"Resultant vector\", round(r,2))\nprint(\"The angle resultant vector makes with the +ve direction of x-axis\", round(direction,2),\"°\")",
      "metadata": {
        "trusted": true
      },
      "execution_count": 98,
      "outputs": [
        {
          "name": "stdout",
          "text": "X component of resultant vector 0.88\nY component of resultant vector 12.56\nResultant vector 12.59\nThe angle resultant vector makes with the +ve direction of x-axis 86.0 °\n",
          "output_type": "stream"
        }
      ]
    },
    {
      "cell_type": "markdown",
      "source": "## 3. Find the area of the parallelogram determined by the vectors: 2i - 13j + 5k and 5i + 2j - 4k. What is the area of triangle determined by 2 vectors A=3i+4j-k and B=-3i+7j-4k ?",
      "metadata": {}
    },
    {
      "cell_type": "code",
      "source": "def parallelogram_area(v1, v2):\n  # Calculate the cross product\n  cp = np.cross(v1, v2)\n  # Calculate the area of the parallelogram\n  area = np.linalg.norm(cp)\n  return area\n\nv1 = np.array([2, -13, 5])\nv2 = np.array([5, 2, -4])\narea = round(parallelogram_area(v1,v2),2)\n\nprint(\"Area of parallelogram : \", area)\n",
      "metadata": {
        "trusted": true
      },
      "execution_count": 99,
      "outputs": [
        {
          "name": "stdout",
          "text": "Area of parallelogram :  87.26\n",
          "output_type": "stream"
        }
      ]
    },
    {
      "cell_type": "code",
      "source": "def triangle_area(v1, v2):\n  # Calculate the cross product\n  cp = np.cross(v1, v2)\n  # Calculate the area of the parallelogram\n  area = np.linalg.norm(cp)\n  # Calculate the area of the triangle\n  triangle_area = area / 2\n  return triangle_area\n\nv1 = np.array([3, 4, -1])\nv2 = np.array([-3, 7, -4])\narea = round(triangle_area(v1,v2),2) \n\nprint(\"Area of Triangle: \", area)",
      "metadata": {
        "trusted": true
      },
      "execution_count": 100,
      "outputs": [
        {
          "name": "stdout",
          "text": "Area of Triangle:  18.67\n",
          "output_type": "stream"
        }
      ]
    },
    {
      "cell_type": "markdown",
      "source": "## 4. The x component of vector A is 25.0 m and the y component is 40.0 m. (a) What is the magnitude of A (b) What is the angle between the direction of and the positive direction of x?",
      "metadata": {}
    },
    {
      "cell_type": "code",
      "source": "ax = 25\nay = 40\n\na = round(magnitude(ax,ay),2)\ndirection = round(math.degrees(math.acos(ax/a)),2)\n\nprint(\"Magnitude of A : \", a )\nprint(\"Angle betwen the direction of vector and the +ve direction of x : \", direction,\"°\")\n\n",
      "metadata": {
        "trusted": true
      },
      "execution_count": 101,
      "outputs": [
        {
          "name": "stdout",
          "text": "Magnitude of A :  47.17\nAngle betwen the direction of vector and the +ve direction of x :  57.99 °\n",
          "output_type": "stream"
        }
      ]
    },
    {
      "cell_type": "markdown",
      "source": "## 5. A ship sets out to sail to a point 120 km due north. An unexpected storm blows the ship to a point 100 km due east of its starting point. (a) How far and (b) in what direction must it now sail to reach its original destination?",
      "metadata": {}
    },
    {
      "cell_type": "code",
      "source": "def direction(x,y):\n    angle=math.degrees(math.atan(y/x))\n    return angle\n\na = 120\nb = 100\nr = round(magnitude(a,b),2)\ndirection = round(direction(b,a),2)\n\nprint(\"A - DISTANCE: \", r)\nprint(\"B - Direction: \", direction,\"°\")",
      "metadata": {
        "trusted": true
      },
      "execution_count": 102,
      "outputs": [
        {
          "name": "stdout",
          "text": "A - DISTANCE:  156.2\nB - Direction:  50.19 °\n",
          "output_type": "stream"
        }
      ]
    },
    {
      "cell_type": "markdown",
      "source": "## 6. Three vectors a , b and c each have a magnitude of 50 m and lie in an xy plane. Their directions relative to the positive direction of the x axis are 30°, 195°, and 315°, respectively. What are (i) the magnitude and the angle of the vector a+b+c ",
      "metadata": {
        "tags": []
      }
    },
    {
      "cell_type": "code",
      "source": "# Define the x and y components of the vectors\ntheta1 = math.radians(30)\ntheta2 = math.radians(195)\ntheta3 = math.radians(315)\nax = x_comp(50,theta1)\nay = y_comp(50,theta1)\nbx = x_comp(50,theta2)\nby = y_comp(50,theta2)\ncx = x_comp(50,theta3)\ncy = y_comp(50,theta3)\n\n# Calculate the x and y components of a+b+c\nsum_x = ax + bx + cx\nsum_y = ay + by + cy\n\n# Calculate the magnitude and angle of a+b+c\ndef magnitude(a,b):\n    result = math.sqrt((a*a)+(b*b))\n    return result\n\nmagnitude = round(magnitude(sum_x,sum_y))\n\ndef direction(x,y):\n    angle=math.degrees(math.atan(y/x))\n    return angle\n\nangle = round(direction(sum_x, sum_y))\n\nprint(\"Magnitude for a+b+c :\", magnitude)\nprint(\"Angle for a+b+c:\", angle,\"°\")",
      "metadata": {
        "trusted": true
      },
      "execution_count": 103,
      "outputs": [
        {
          "name": "stdout",
          "text": "Magnitude for a+b+c : 38\nAngle for a+b+c: -38 °\n",
          "output_type": "stream"
        }
      ]
    },
    {
      "cell_type": "markdown",
      "source": "## ii) the magnitude and the angle of a-b+c?",
      "metadata": {}
    },
    {
      "cell_type": "code",
      "source": "sum_x = ax - bx + cx\nsum_y = ay - by + cy\n\ndef magnitude(a,b):\n    result = math.sqrt((a*a)+(b*b))\n    return result\nmagnitude = round(magnitude(sum_x,sum_y))\n\ndef direction(x,y):\n    angle=math.degrees(math.atan(y/x))\n    return angle\nangle = round(direction(sum_x, sum_y))\n\nprint(\"Magnitude for a-b+c : \", magnitude)\nprint(\"Angle for a-b+c: \", angle,\"°\")\n",
      "metadata": {
        "trusted": true
      },
      "execution_count": 104,
      "outputs": [
        {
          "name": "stdout",
          "text": "Magnitude for a-b+c :  127\nAngle for a-b+c:  1 °\n",
          "output_type": "stream"
        }
      ]
    },
    {
      "cell_type": "markdown",
      "source": "##  What are the (iii) magnitude and angle of a fourth vector d such that (a+b ) – (c+d) = 0 ?",
      "metadata": {}
    },
    {
      "cell_type": "code",
      "source": "# Solve for dx and dy\ndx = (ay + by - cy) \ndy = (ax + bx - cx)\n\n# Calculate the magnitude and angle of d\ndef magnitude(a,b):\n    result = math.sqrt((a*a)+(b*b))\n    return result\n\nmagnitude = round(magnitude(dx,dy),2)\n\ndef direction(x,y):\n    angle=math.degrees(math.atan(y/x))\n    return angle\n\nangle = round(direction(dy, dx),2)\n\nprint(\"Magnitude:\", magnitude)\nprint(\"Angle:\", angle)",
      "metadata": {
        "trusted": true
      },
      "execution_count": 105,
      "outputs": [
        {
          "name": "stdout",
          "text": "Magnitude: 62.26\nAngle: -49.6\n",
          "output_type": "stream"
        }
      ]
    },
    {
      "cell_type": "markdown",
      "source": "## 7. Find the angle between the vector A= 2i -3j+5k and the x, y,and z axes, respectively.",
      "metadata": {}
    },
    {
      "cell_type": "code",
      "source": "def magnitude(a,b,c):\n    result = math.sqrt((a**2)+(b**2)+(c**2))\n    return result\n\nai = 2\nbi = -3\nci = 5\nr = magnitude(ai,bi,ci)\n                       \nanglex = round(math.degrees(math.acos(ai/r)),2)\nangley = round(math.degrees(math.acos(bi/r)),2)\nanglez = round(math.degrees(math.acos(ci/r)),2)\n                       \nprint(\"Angle between the vector and the x-axis: \", anglex, \"°\")\nprint(\"Angle between the vector and the y-axis: \", angley, \"°\")\nprint(\"Angle between the vector and the z-axis: \", anglez, \"°\")\n                       ",
      "metadata": {
        "trusted": true
      },
      "execution_count": 106,
      "outputs": [
        {
          "name": "stdout",
          "text": "Angle between the vector and the x-axis:  71.07 °\nAngle between the vector and the y-axis:  119.12 °\nAngle between the vector and the z-axis:  35.8 °\n",
          "output_type": "stream"
        }
      ]
    },
    {
      "cell_type": "markdown",
      "source": "## 8. Calculate the angle between “r” and the positive z-axis. Find the angle between “a” and “b”. where a = 5i +4j -6k , b= -2i +2j+3k and c = 4i+3j+2k , r = a+b+c.",
      "metadata": {}
    },
    {
      "cell_type": "code",
      "source": "def magnitude(a,b,c):\n    result = math.sqrt((a**2)+(b**2)+(c**2))\n    return result\n\n\na = [5,4,-6]\nb = [-2,2,3]\nc = [4,3,2]\n\nr = [ a[0]+b[0]+c[0], a[1]+b[1]+c[1], a[2]+b[2]+c[2] ]\n\nrmag = round(magnitude(r[0], r[1], r[2]),2)\n\nraxis = round(math.degrees(math.acos(r[2]/rmag)),2)\n\nprint(\"Angle between 'r' and +ve z-axis :\", raxis,\"°\")\n",
      "metadata": {
        "trusted": true
      },
      "execution_count": 107,
      "outputs": [
        {
          "name": "stdout",
          "text": "Angle between 'r' and +ve z-axis : 95.01 °\n",
          "output_type": "stream"
        }
      ]
    },
    {
      "cell_type": "code",
      "source": "def magnitude(a,b,c):\n    result = math.sqrt((a**2)+(b**2)+(c**2))\n    return result\n\n\nA = np.array([5,4,-6])\namag= magnitude(A[0],A[1],A[2])\nB = np.array([-2,2,3])\nbmag = magnitude(B[0],B[1],B[2])\n\ndp = np.dot(A,B)\n\nabaxis = round(math.degrees(math.acos(dp/(amag*bmag))),2)\n\nprint(\"Angle between vectors A and B : \", abaxis, \"°\")\n",
      "metadata": {
        "trusted": true
      },
      "execution_count": 108,
      "outputs": [
        {
          "name": "stdout",
          "text": "Angle between vectors A and B :  123.56 °\n",
          "output_type": "stream"
        }
      ]
    },
    {
      "cell_type": "markdown",
      "source": "## 9. Vector A has a magnitude of 6 units, vector B has a magnitude of 7 units, and A.B has a value of 14. What is the angle between the direction of A and B?",
      "metadata": {}
    },
    {
      "cell_type": "code",
      "source": "a = 6\nb = 7\nacb = 14\n\nangle = round(math.degrees(math.acos(acb/(a*b))),2)\n\nprint(\"Angle between direction of A and B : \", angle, \"°\")",
      "metadata": {
        "trusted": true
      },
      "execution_count": 109,
      "outputs": [
        {
          "name": "stdout",
          "text": "Angle between direction of A and B :  70.53 °\n",
          "output_type": "stream"
        }
      ]
    },
    {
      "cell_type": "markdown",
      "source": "## 10. Determine the value of “X” such that A = 4i + Xj + 2k and B = 4i - 8j - 2k are perpendicular.",
      "metadata": {}
    },
    {
      "cell_type": "code",
      "source": " \n#since the vectors are perpendicular A.B = 0\n\n#(4i + Xj + 2k )*(4i - 8j - 2k) = 0\n\n#solving this for x gives \n\nx = (4-16)/(-8)\nprint(\"X = \" , x)\n\n#to confirm\n\nA = np.array([4, 1.5, 2])\nB = np.array([4, -8, -2])\n\ndot = np.dot(A,B)\n\nprint(\"Confirmed value of X after checking : \" , dot)",
      "metadata": {
        "trusted": true
      },
      "execution_count": 112,
      "outputs": [
        {
          "name": "stdout",
          "text": "X =  1.5\nConfirmed value of X after checking :  0.0\n",
          "output_type": "stream"
        }
      ]
    },
    {
      "cell_type": "markdown",
      "source": "# Assignment - 2",
      "metadata": {}
    },
    {
      "cell_type": "markdown",
      "source": "## 1. An automobile travels on a straight road for 40 km at 30 km/h. It then continues in the same direction for another 40 km at 60 km/h. (a) What is the average velocity of the car during the full 80 km trip? ",
      "metadata": {}
    },
    {
      "cell_type": "code",
      "source": "d1 = 40\ns1 = 30\nd2 = 40\ns2 = 60\n\nt1 = d1/s1\nt2 = d2/s2\nt = t1+t2\ntotal_distance = [d1,d2]\n\ndef total(array):\n  # Calculate the sum of the values in the array\n  sum = 0\n  for x in array:\n    sum += x\n  return sum\n\navg_vel = total(total_distance) / t\n\nprint(\"Average velocity of car during the entire 80 KM trip = \",avg_vel, \"km/h\")  ",
      "metadata": {
        "trusted": true
      },
      "execution_count": 124,
      "outputs": [
        {
          "name": "stdout",
          "text": "Average velocity of car during the entire 80 KM trip =  40.0 km/h\n",
          "output_type": "stream"
        }
      ]
    },
    {
      "cell_type": "markdown",
      "source": "## (b) What is the average speed?\n",
      "metadata": {}
    },
    {
      "cell_type": "code",
      "source": "def average(array):\n  # Calculate the sum of the values in the array\n  sum = 0\n  for value in array:\n    sum += value\n  \n  # Calculate the average of the values in the array\n  average = sum / len(array)\n  \n  return average\n\ns = [ s1, s2 ]\n\navg_s = average(s)\nprint(\"Average speed is = \", avg_s,\"km/h\")",
      "metadata": {
        "trusted": true
      },
      "execution_count": 127,
      "outputs": [
        {
          "name": "stdout",
          "text": "Average speed is =  45.0 km/h\n",
          "output_type": "stream"
        }
      ]
    },
    {
      "cell_type": "markdown",
      "source": "## (c) Graph x versus t and indicate how the average velocity is found on the graph.",
      "metadata": {}
    },
    {
      "cell_type": "code",
      "source": "# Calculate the time it takes to travel 40 km at 30 km/h\nt1 = 40 / 30  # t1 = 1.333 hours\n\n# Calculate the time it takes to travel 40 km at 60 km/h\nt2 = 40 / 60  # t2 = 0.667 hours\n\n# Calculate the total time\nt_total = t1 + t2  # t_total = 2 hours\n\n# Calculate the distance traveled at each time interval\nx1 = 30 * t1  # x1 = 40 km\nx2 = 60 * t2  # x2 = 40 km\n\n# Calculate the total distance traveled\nx_total = x1 + x2  # x_total = 80 km\n\n# Create the plot\nplt.plot([0, t1, t_total], [0, x1, x_total])\n\n# Add labels and title\nplt.xlabel('Time (hours)')\nplt.ylabel('Distance Traveled (km)')\nplt.title('Distance Traveled vs Time')\n\n# Show the plot\nplt.show()\n",
      "metadata": {
        "trusted": true
      },
      "execution_count": 135,
      "outputs": [
        {
          "output_type": "display_data",
          "data": {
            "text/plain": "<Figure size 640x480 with 1 Axes>",
            "image/png": "[encoded data removed]"
          },
          "metadata": {}
        }
      ]
    },
    {
      "cell_type": "markdown",
      "source": "## 2. A car starts from rest and accelerates uniformly to a speed of 25 m/s in 8 sec. (a)What is the acceleration? ",
      "metadata": {}
    },
    {
      "cell_type": "code",
      "source": "# Given values\nv = 25  # m/s\nv0 = 0  # m/s\nt = 8  # s\n\n# Calculate acceleration\na = (v - v0) / t\nprint(f'Acceleration: {a:.2f} m/s^2')\n",
      "metadata": {
        "trusted": true
      },
      "execution_count": 136,
      "outputs": [
        {
          "name": "stdout",
          "text": "Acceleration: 3.12 m/s^2\n",
          "output_type": "stream"
        }
      ]
    },
    {
      "cell_type": "markdown",
      "source": "## 2(b) How far did it travel in 8 sec?",
      "metadata": {}
    },
    {
      "cell_type": "code",
      "source": "# Given values\nv = 25  # m/s\nv0 = 0  # m/s\nt = 8  # s\n\n# Calculate distance traveled\nx = (v + v0) * t / 2\nprint(f'Distance traveled: {x:.2f} m')\n",
      "metadata": {
        "trusted": true
      },
      "execution_count": 137,
      "outputs": [
        {
          "name": "stdout",
          "text": "Distance traveled: 100.00 m\n",
          "output_type": "stream"
        }
      ]
    },
    {
      "cell_type": "markdown",
      "source": "## 3. At a certain time a particle had a speed of 18 m/s in the positive x direction, and 2.4 s later its speed was 30 m/s in the opposite direction. What is the average acceleration of the particle during this 2.4 s interval?",
      "metadata": {}
    },
    {
      "cell_type": "code",
      "source": "# Given values\nv0 = 18  # m/s\nv = -30  # m/s\nt = 2.4  # s\n\n# Calculate average acceleration\na = (v - v0) / t\nprint(f'Average acceleration: {a:.2f} m/s^2')\n",
      "metadata": {
        "trusted": true
      },
      "execution_count": 8,
      "outputs": [
        {
          "name": "stdout",
          "text": "Average acceleration: -20.00 m/s^2\n",
          "output_type": "stream"
        }
      ]
    },
    {
      "cell_type": "markdown",
      "source": "## 4. A car moving with constant acceleration covers a distance of 50m between two points in 5 sec. Its velocity as it passes the second point is 16m/sec. (a) What is its acceleration? (b) What was its velocity as it passed the first point?",
      "metadata": {}
    },
    {
      "cell_type": "code",
      "source": "s = 50\nt = 5\nvf = 16\n\na = (2*vf*t - 2*s) / (t**2)\n\nprint(\"Acceleration is \",round(a,2),\"m/s^2\")\n\n",
      "metadata": {
        "trusted": true
      },
      "execution_count": 22,
      "outputs": [
        {
          "name": "stdout",
          "text": "Acceleration is  2.4 m/s^2\n",
          "output_type": "stream"
        }
      ]
    },
    {
      "cell_type": "code",
      "source": "vi = vf - a*t\n\nprint(\"Initial velocity is : \", round(vi,2),\"m/s^2\")",
      "metadata": {
        "trusted": true
      },
      "execution_count": 23,
      "outputs": [
        {
          "name": "stdout",
          "text": "Initial velocity is :  4.0 m/s^2\n",
          "output_type": "stream"
        }
      ]
    },
    {
      "cell_type": "markdown",
      "source": "## 5. The position of an object moving along an x axis is given by X = 3t - 4t^2 + t^3 , where x is in meters and t in seconds. Find the position of the object at the following values of t: (a) 1 s,",
      "metadata": {}
    },
    {
      "cell_type": "code",
      "source": "import sympy as sp\nsp.init_printing()\nt = sp.symbols('t')\nposition = 3*t - 4*t**2 + t**3\nposition",
      "metadata": {
        "trusted": true
      },
      "execution_count": 38,
      "outputs": [
        {
          "execution_count": 38,
          "output_type": "execute_result",
          "data": {
            "text/plain": " 3      2      \nt  - 4⋅t  + 3⋅t",
            "text/latex": "$\\displaystyle t^{3} - 4 t^{2} + 3 t$"
          },
          "metadata": {}
        }
      ]
    },
    {
      "cell_type": "code",
      "source": "t = 1\nx = 3*t - 4*t**2 + t**3\n\nprint(\"Position at t = 1 : \", x,\"m\")",
      "metadata": {
        "trusted": true
      },
      "execution_count": 27,
      "outputs": [
        {
          "name": "stdout",
          "text": "Position at t = 1 :  0 m\n",
          "output_type": "stream"
        }
      ]
    },
    {
      "cell_type": "markdown",
      "source": "## (b) t = 2",
      "metadata": {}
    },
    {
      "cell_type": "code",
      "source": "t = 2\nx = 3*t - 4*t**2 + t**3\n\nprint(\"Position at t = 2 : \", x,\"m\")",
      "metadata": {},
      "execution_count": null,
      "outputs": []
    },
    {
      "cell_type": "markdown",
      "source": "## (c) t = 3\n",
      "metadata": {}
    },
    {
      "cell_type": "code",
      "source": "t = 3\nx = 3*t - 4*t**2 + t**3\n\nprint(\"Position at t = 3 : \", x,\"m\")",
      "metadata": {
        "trusted": true
      },
      "execution_count": 29,
      "outputs": [
        {
          "name": "stdout",
          "text": "Position at t = 3 :  0 m\n",
          "output_type": "stream"
        }
      ]
    },
    {
      "cell_type": "markdown",
      "source": "## (d) t = 4",
      "metadata": {}
    },
    {
      "cell_type": "code",
      "source": "t = 4\nx = 3*t - 4*t**2 + t**3\n\nprint(\"Position at t = 4 : \", x,\"m\")",
      "metadata": {
        "trusted": true
      },
      "execution_count": 30,
      "outputs": [
        {
          "name": "stdout",
          "text": "Position at t = 4 :  12 m\n",
          "output_type": "stream"
        }
      ]
    },
    {
      "cell_type": "markdown",
      "source": "## (e) What is the object's displacement between t = 0 and t = 4 ?",
      "metadata": {}
    },
    {
      "cell_type": "code",
      "source": "t = 0\nxi = 3*t - 4*t**2 + t**3\n\nprint(\"Position at t = 0 : \", xi,\"m\")\n\nt = 4\nxf = 3*t - 4*t**2 + t**3\n\nprint(\"Position at t = 2 : \", xf,\"m\")\n\nprint(\"displace between t = 0 and t = 4 : \", xf-xi,\"m\")",
      "metadata": {
        "trusted": true
      },
      "execution_count": 36,
      "outputs": [
        {
          "name": "stdout",
          "text": "Position at t = 0 :  0 m\nPosition at t = 2 :  12 m\ndisplace between t = 0 and t = 4 :  12 m\n",
          "output_type": "stream"
        }
      ]
    },
    {
      "cell_type": "markdown",
      "source": "## (f) What is its average velocity for the time interval from t = 2 s to t = 4 s?",
      "metadata": {}
    },
    {
      "cell_type": "code",
      "source": "velocity = sp.diff(position)\nvelocity",
      "metadata": {
        "trusted": true
      },
      "execution_count": 40,
      "outputs": [
        {
          "execution_count": 40,
          "output_type": "execute_result",
          "data": {
            "text/plain": "   2          \n3⋅t  - 8⋅t + 3",
            "text/latex": "$\\displaystyle 3 t^{2} - 8 t + 3$"
          },
          "metadata": {}
        }
      ]
    },
    {
      "cell_type": "code",
      "source": "## distance at t=2 : -2\n# distance at t = 4 : 12\n\navgv = (12-(-2))/(4-2)\n\nprint(\"Average velocity : \",avgv, \"m/s\")",
      "metadata": {
        "trusted": true
      },
      "execution_count": 41,
      "outputs": [
        {
          "name": "stdout",
          "text": "Average velocity :  7.0 m/s\n",
          "output_type": "stream"
        }
      ]
    },
    {
      "cell_type": "markdown",
      "source": "## (g) Graph x versus t for 0 = t = 4 s",
      "metadata": {}
    },
    {
      "cell_type": "code",
      "source": "import matplotlib.pyplot as plt\nplt.plot([1, 2, 3, 4], [0, -2, 3, 12])\n\n# Add labels and title\nplt.xlabel('Time (seconds)')\nplt.ylabel('Distance Traveled (m)')\nplt.title('Distance Traveled vs Time')\n\n# Show the plot\nplt.show()",
      "metadata": {
        "trusted": true
      },
      "execution_count": 45,
      "outputs": [
        {
          "output_type": "display_data",
          "data": {
            "text/plain": "<Figure size 640x480 with 1 Axes>",
            "image/png": "[encoded data removed]"
          },
          "metadata": {}
        }
      ]
    },
    {
      "cell_type": "markdown",
      "source": "## A particle moves along the x axis according to the equation x = 21t + 5t^2 ,where x is in meters and t is in seconds. Calculate",
      "metadata": {}
    },
    {
      "cell_type": "markdown",
      "source": "## (a) the average velocity of the particle during the first 3 sec of its motion",
      "metadata": {}
    },
    {
      "cell_type": "code",
      "source": "import sympy as sp\nsp.init_printing()\nt = sp.symbols('t')\nx = 21*t + 5*t**2\nvelocity = sp.diff(x,t)\nvelocity\n",
      "metadata": {
        "trusted": true
      },
      "execution_count": 3,
      "outputs": [
        {
          "execution_count": 3,
          "output_type": "execute_result",
          "data": {
            "text/plain": "10⋅t + 21",
            "text/latex": "$\\displaystyle 10 t + 21$"
          },
          "metadata": {}
        }
      ]
    },
    {
      "cell_type": "code",
      "source": "t1 = 1\nvi = 10*t1+21\n\nt2 = 3\nvf = 10*t2+21\n\navgv = (vf-vi)/(t2-t1)\nprint(\"The average velocity of the particle during the first 3 seconds of its motion : \", avgv, \"m/s\")",
      "metadata": {
        "trusted": true
      },
      "execution_count": 7,
      "outputs": [
        {
          "name": "stdout",
          "text": "31\nThe average velocity of the particle during the first 3 seconds of its motion :  10.0 m/s\n",
          "output_type": "stream"
        }
      ]
    },
    {
      "cell_type": "markdown",
      "source": "## (b) the instantaneous velocity of the particle at t = 3 sec",
      "metadata": {}
    },
    {
      "cell_type": "code",
      "source": "t = 3\ninstv = 10*t+21\n\nprint(\"The instantaneous velocity of the particle at t = 3 sec : \", instv, \"m/s\")",
      "metadata": {
        "trusted": true
      },
      "execution_count": 10,
      "outputs": [
        {
          "name": "stdout",
          "text": "The instantaneous velocity of the particle at t = 3 sec :  51 m/s\n",
          "output_type": "stream"
        }
      ]
    },
    {
      "cell_type": "markdown",
      "source": "## (c) the instantaneous acceleration of the particle at t =3sec.",
      "metadata": {}
    },
    {
      "cell_type": "code",
      "source": "import sympy as sp\nt = sp.symbols('t')\nacceleration = sp.diff(velocity,t)\nacceleration",
      "metadata": {
        "trusted": true
      },
      "execution_count": 14,
      "outputs": [
        {
          "execution_count": 14,
          "output_type": "execute_result",
          "data": {
            "text/plain": "10",
            "text/latex": "$\\displaystyle 10$"
          },
          "metadata": {}
        }
      ]
    },
    {
      "cell_type": "markdown",
      "source": "## 7. Figure depicts the motion of a particle moving along an x axis with a constant acceleration. The figure’s vertical scaling is set by xs_6.0 m.\n![fp3.PNG](attachment:b5d741da-7711-460c-b1a8-478d86e7cc7c.PNG)",
      "metadata": {},
      "attachments": {
        "b5d741da-7711-460c-b1a8-478d86e7cc7c.PNG": {
          "image/png": "[encoded data removed]"
        }
      }
    },
    {
      "cell_type": "markdown",
      "source": "## What are the (a) magnitude of the particle's acceleration",
      "metadata": {}
    },
    {
      "cell_type": "code",
      "source": "from sympy import symbols, Eq, solve\nvi,a = symbols('vi a')\n\ns1 = 2\nt1 = 1\nv1 = (4-a)/2\n\ns2 = 8\nt2 = 2\nv2= (4-a)\n\nresult = solve((v1,v2),(vi,a))\n\nprint(f'The magnitude of the particles acceleration : {result[a]}'' m/s^2')\n",
      "metadata": {
        "trusted": true
      },
      "execution_count": 37,
      "outputs": [
        {
          "name": "stdout",
          "text": "The magnitude of the particles acceleration : 4 m/s^2\n",
          "output_type": "stream"
        }
      ]
    },
    {
      "cell_type": "markdown",
      "source": "## (b) direction of the particle’s acceleration?",
      "metadata": {}
    },
    {
      "cell_type": "markdown",
      "source": "## Direction of the particle's acceleration is in positive axis",
      "metadata": {}
    },
    {
      "cell_type": "markdown",
      "source": "## 8. A particle rotates counterclockwise in a circle of radius 5 m with a constant angular speed of 12 rad/s. At t=0, the particle has an x coordinate of 1.5m and is moving to the right. (a) Determine the x coordinate as a function of time. Find the x component of particle’s velocity and acceleration at any time ‘t’.",
      "metadata": {}
    },
    {
      "cell_type": "code",
      "source": "import math\n\ndef x(t):\n    return 5 * math.cos(12 * t) + 1.5\n\ndef vx(t):\n    return -5 * 12 * math.sin(12 * t)\n\ndef ax(t):\n    return -5 * 12**2 * math.cos(12 * t)\n\n# Find the x coordinate, x component of velocity, and x component of acceleration at t=1.5\nt = 1.5\nx_coord = x(t)\nvx_coord = vx(t)\nax_coord = ax(t)\n\n# Print the results\nprint(f\"x(t) = {x_coord} m\")\nprint(f\"vx(t) = {vx_coord} m/s\")\nprint(f\"ax(t) = {ax_coord} m/s^2\")\n",
      "metadata": {
        "trusted": true
      },
      "execution_count": 38,
      "outputs": [
        {
          "name": "stdout",
          "text": "x(t) = 4.801583541220401 m\nvx(t) = 45.05923480630057 m/s\nax(t) = -475.42802993573775 m/s^2\n",
          "output_type": "stream"
        }
      ]
    },
    {
      "cell_type": "markdown",
      "source": "## 9. An ion’s position vector is initially\n## ![fig3.PNG](attachment:141a2e36-71d1-4151-a625-a52daf53c5cc.PNG)\n## and 10 s later it is\n## ![fig5.PNG](attachment:51f95462-93a5-4bfb-83c5-6c66bb9de97d.PNG)\n## all in meters. In unit vector notation, what is its during the 10 s ",
      "metadata": {},
      "attachments": {
        "141a2e36-71d1-4151-a625-a52daf53c5cc.PNG": {
          "image/png": "[encoded data removed]"
        },
        "51f95462-93a5-4bfb-83c5-6c66bb9de97d.PNG": {
          "image/png": "[encoded data removed]"
        }
      }
    },
    {
      "cell_type": "code",
      "source": "import numpy as np\nimport math\ndef magnitude(a,b,c):\n    result = math.sqrt((a**2)+(b**2)+(c**2))\n    return result\n\nri = np.array([5, -6, 2])\nrf = np.array([-2, 8, -2])\nt = 10\n\nvavg = (rf-ri)/t\n\nu = round(magnitude(vavg[0],vavg[1],vavg[2]),2)\n\nunit = vavg/u\n\nprint(round(unit[0],2),\"i + \",round(unit[1],2),\"j + \",round(unit[2],2),\"k\")",
      "metadata": {
        "trusted": true
      },
      "execution_count": 16,
      "outputs": [
        {
          "name": "stdout",
          "text": "-0.43 i +  0.86 j +  -0.25 k\n",
          "output_type": "stream"
        }
      ]
    },
    {
      "cell_type": "markdown",
      "source": "## 10. The position :r of a particle moving in an xy plane is given\n## ![fig6.PNG](attachment:56698643-15fc-417a-82ea-be82a344d023.PNG)\n## with r in meters and t in seconds. In unit-vector notation, calculate (a) r for t = 2s\n",
      "metadata": {},
      "attachments": {
        "56698643-15fc-417a-82ea-be82a344d023.PNG": {
          "image/png": "[encoded data removed]"
        }
      }
    },
    {
      "cell_type": "code",
      "source": "import numpy as np\nt = 2\nr = np.array([(2*t**3 - 5*t), (6 - 7*t**4)])\n\nprint(r[0],\"i\",r[1], \"j\")",
      "metadata": {
        "trusted": true
      },
      "execution_count": 25,
      "outputs": [
        {
          "name": "stdout",
          "text": "6 i -106 j\n",
          "output_type": "stream"
        }
      ]
    },
    {
      "cell_type": "markdown",
      "source": "## (b) v for t = 2 s",
      "metadata": {}
    },
    {
      "cell_type": "code",
      "source": "import sympy as sp\nsp.init_printing\nt = sp.symbols('t')\nri = 2*t**3 - 5*t\nrj = 6 - 7*t**4\nvi = sp.diff(ri,t)\nvj = sp.diff(rj,t)\nvi\n",
      "metadata": {
        "trusted": true
      },
      "execution_count": 28,
      "outputs": [
        {
          "execution_count": 28,
          "output_type": "execute_result",
          "data": {
            "text/plain": "6*t**2 - 5",
            "text/latex": "$\\displaystyle 6 t^{2} - 5$"
          },
          "metadata": {}
        }
      ]
    },
    {
      "cell_type": "code",
      "source": "vj",
      "metadata": {
        "trusted": true
      },
      "execution_count": 29,
      "outputs": [
        {
          "execution_count": 29,
          "output_type": "execute_result",
          "data": {
            "text/plain": "-28*t**3",
            "text/latex": "$\\displaystyle - 28 t^{3}$"
          },
          "metadata": {}
        }
      ]
    },
    {
      "cell_type": "code",
      "source": "t = 2\nv = np.array([(6*t**2 - 5), ( -28*t**3)])\n\nprint(\"V for t = 2 seconds : \", v[0],\"i\", v[1],\"j\")",
      "metadata": {
        "trusted": true
      },
      "execution_count": 32,
      "outputs": [
        {
          "name": "stdout",
          "text": "V for t = 2 seconds :  19 i -224 j\n",
          "output_type": "stream"
        }
      ]
    },
    {
      "cell_type": "markdown",
      "source": "## (c) a for t = 2 seconds",
      "metadata": {}
    },
    {
      "cell_type": "code",
      "source": "import sympy as sp\nt = sp.symbols('t')\nvi = 6*t**2 -5\nai = sp.diff(vi,t)\nai",
      "metadata": {
        "trusted": true
      },
      "execution_count": 38,
      "outputs": [
        {
          "execution_count": 38,
          "output_type": "execute_result",
          "data": {
            "text/plain": "12*t",
            "text/latex": "$\\displaystyle 12 t$"
          },
          "metadata": {}
        }
      ]
    },
    {
      "cell_type": "code",
      "source": "vj = -28*t**3\naj = sp.diff(vj,t)\naj",
      "metadata": {
        "trusted": true
      },
      "execution_count": 40,
      "outputs": [
        {
          "execution_count": 40,
          "output_type": "execute_result",
          "data": {
            "text/plain": "-84*t**2",
            "text/latex": "$\\displaystyle - 84 t^{2}$"
          },
          "metadata": {}
        }
      ]
    },
    {
      "cell_type": "code",
      "source": "t = 2\na = np.array([ 12*t, -84*t**2])\n\nprint(\"a for t = 2 seconds : \",a[0],\"i\",a[1],\"j\")",
      "metadata": {
        "trusted": true
      },
      "execution_count": 41,
      "outputs": [
        {
          "name": "stdout",
          "text": "a for t = 2 seconds :  24 i -336 j\n",
          "output_type": "stream"
        }
      ]
    },
    {
      "cell_type": "markdown",
      "source": "## (d) What is the angle between the positive direction of the x axis and a line tangent to the particle’s path at t = 2.00 s",
      "metadata": {}
    },
    {
      "cell_type": "code",
      "source": "def direction(x,y):\n    angle=math.degrees(math.atan(y/x))\n    return angle\n\nd = direction(v[0],v[1])\nprint(\"Angle between the +ve direction of x axis and a line tangent to the particle's path at t = 2 seconds : \", d)",
      "metadata": {
        "trusted": true
      },
      "execution_count": 50,
      "outputs": [
        {
          "name": "stdout",
          "text": "Angle between the +ve direction of x axis and a line tangent to the particle's path at t = 2 seconds :  -85.15169523160512\n",
          "output_type": "stream"
        }
      ]
    },
    {
      "cell_type": "markdown",
      "source": "## 11. A ball is shot from the ground into air . At a hieght of 9.1 m , its velocity is\n## ![fig7.PNG](attachment:69b59995-e90d-4e66-ac70-7da447eddf1d.PNG)\n## with \"i\" horizontal and \"j\" upward",
      "metadata": {},
      "attachments": {
        "69b59995-e90d-4e66-ac70-7da447eddf1d.PNG": {
          "image/png": "[encoded data removed]"
        }
      }
    },
    {
      "cell_type": "markdown",
      "source": "## (a) To what maximum height does the ball rise?",
      "metadata": {}
    },
    {
      "cell_type": "code",
      "source": "import math\nvfy = 6.1\nh = 9.1\ng = 9.8\nvi = round(math.sqrt((vfy)**2 + (2*g*h)),2)\n\nprint(\"Initial velocity = \",vi,\"m/s\")",
      "metadata": {
        "trusted": true
      },
      "execution_count": 4,
      "outputs": [
        {
          "name": "stdout",
          "text": "Initial velocity =  14.68 m/s\n",
          "output_type": "stream"
        }
      ]
    },
    {
      "cell_type": "code",
      "source": "# at max height vf = 0\nh = round((vi**2)/(2*g),2)\n\nprint(\"Max height = \", h,\"m\")",
      "metadata": {
        "trusted": true
      },
      "execution_count": 7,
      "outputs": [
        {
          "name": "stdout",
          "text": "Max height =  11.0 m\n",
          "output_type": "stream"
        }
      ]
    },
    {
      "cell_type": "markdown",
      "source": "## (b) What total horizontal distance does the ball travel?",
      "metadata": {}
    },
    {
      "cell_type": "code",
      "source": "vx = 7.6\nr =round( vx*((2*vi)/g) , 2)\nprint(\"The total horizontal distance the ball travels is : \",r,\"m\")\n",
      "metadata": {
        "trusted": true
      },
      "execution_count": 10,
      "outputs": [
        {
          "name": "stdout",
          "text": "The total horizontal distance the ball travels is :  22.77 m\n",
          "output_type": "stream"
        }
      ]
    },
    {
      "cell_type": "markdown",
      "source": "## What are the (c) magnitude and (d) angle (below the horizontal) of the ball ‘s velocity just before it hits the ground?",
      "metadata": {}
    },
    {
      "cell_type": "code",
      "source": "def magnitude(a,b,c):\n    result = math.sqrt((a**2)+(b**2)+(c**2))\n    return result\n\ndef direction(x,y):\n    angle=math.degrees(math.atan(y/x))\n    return angle\nvx = 7.6\nvi = 14.68\n\nv = round(magnitude(vx,vi,0) , 2)\nprint(\"The Magnitude of the ball's velocity just before it hits the ground is = \", v, \"m/s\")\n\nvx = math.radians(7.6)\nvi = math.radians(14.68)\nangle = round(direction(vx,-vi),2)\nprint(\"The angle of the ball's velocity just before it hits the ground is = \", angle)",
      "metadata": {
        "trusted": true
      },
      "execution_count": 24,
      "outputs": [
        {
          "name": "stdout",
          "text": "The Magnitude of the ball's velocity just before it hits the ground is =  16.53 m/s\nThe angle of the ball's velocity just before it hits the ground is =  -62.63\n",
          "output_type": "stream"
        }
      ]
    },
    {
      "cell_type": "markdown",
      "source": "## 12. A centripetal-acceleration addict rides in uniform circular motion with radius r = 3.00 m. At one instant his acceleration is .![fig8.PNG](attachment:747adfa3-4127-48a9-a435-1befd181d868.PNG)\n## At that instant, what are the values of![fig9.PNG](attachment:25db8f3a-e02b-4ef7-89fd-8bd351966ede.PNG)",
      "metadata": {},
      "attachments": {
        "747adfa3-4127-48a9-a435-1befd181d868.PNG": {
          "image/png": "[encoded data removed]"
        },
        "25db8f3a-e02b-4ef7-89fd-8bd351966ede.PNG": {
          "image/png": "[encoded data removed]"
        }
      }
    },
    {
      "cell_type": "code",
      "source": "T = 2\nr = 3\n#during circular motion at constant speed, the velocity is always perpendicular to the acceleration\n# so v.a = 0",
      "metadata": {
        "trusted": true
      },
      "execution_count": 25,
      "outputs": []
    },
    {
      "cell_type": "markdown",
      "source": "# ASSIGNMENT - 3",
      "metadata": {}
    },
    {
      "cell_type": "markdown",
      "source": "## 1. In an engine, a piston oscillates with simple harmonic motion so that its position varies according to the expression x = (5.00 cm) cos(2t + π/6) where x is in centimeters and t is in seconds. At t = 0, find (a) the position of the piston",
      "metadata": {}
    },
    {
      "cell_type": "code",
      "source": "t = 0\nxm = 5/100\nw = 2\ndef x(omega,time,max_x):\n    x = round(max_x*math.cos(omega*time+math.pi/6),3)\n    return x\n\nx = x(w,t,xm)\nprint(\"The Position of the piston at t = 0 seconds is = \",x,\"m\")",
      "metadata": {
        "trusted": true
      },
      "execution_count": 40,
      "outputs": [
        {
          "name": "stdout",
          "text": "The Position of the piston at t = 0 seconds is =  0.043 m\n",
          "output_type": "stream"
        }
      ]
    },
    {
      "cell_type": "markdown",
      "source": "## (b) its velocity at t=0 seconds",
      "metadata": {}
    },
    {
      "cell_type": "code",
      "source": "def v(omega,time,max_x):\n    x = round((-omega*max_x)*math.sin(omega*time+math.pi/6),3)\n    return x\nt = 0\nxm = 5/100\nw = 2\nx = v(w,t,xm)\nprint(\"The Velocity of the piston at t = 0 seconds is = \",x,\"m/s\")",
      "metadata": {
        "trusted": true
      },
      "execution_count": 39,
      "outputs": [
        {
          "name": "stdout",
          "text": "The Velocity of the piston at t = 0 seconds is =  -0.05 m/s\n",
          "output_type": "stream"
        }
      ]
    },
    {
      "cell_type": "markdown",
      "source": "## (c) its acceleration at t = 0 s",
      "metadata": {}
    },
    {
      "cell_type": "code",
      "source": "def a(omega,time,max_x):\n    x = round((-(omega**2)*max_x)*math.sin(omega*time+math.pi/6),3)\n    return x\nt = 0\nxm = 5/100\nw = 2\nx = a(w,t,xm)\nprint(\"The acceleration of the piston at t = 0 seconds is =\",x,\"m/s^2\")",
      "metadata": {
        "trusted": true
      },
      "execution_count": 41,
      "outputs": [
        {
          "name": "stdout",
          "text": "The acceleration of the piston at t = 0 seconds is = -0.1 m/s^2\n",
          "output_type": "stream"
        }
      ]
    },
    {
      "cell_type": "markdown",
      "source": "## (d) Find the period and amplitude of the motion.",
      "metadata": {}
    },
    {
      "cell_type": "code",
      "source": "amplitude = 5/100\nw = 2\nTime_p = (2*math.pi)/w\n\nprint(\"The period of the motion is =\",round(Time_p,4))\nprint(\"The amplitude of the motion is = \", amplitude,\"m\")",
      "metadata": {
        "trusted": true
      },
      "execution_count": 46,
      "outputs": [
        {
          "name": "stdout",
          "text": "The period of the motion is = 3.1416\nThe amplitude of the motion is =  0.05 m\n",
          "output_type": "stream"
        }
      ]
    },
    {
      "cell_type": "markdown",
      "source": "## 2. The position of a particle is given by the expression x = (4.00 m) cos(3.00πt + π), where x is in meters and t is in seconds. Determine (a) the frequency and period of the motion,",
      "metadata": {}
    },
    {
      "cell_type": "code",
      "source": "def f(omega):\n    f = omega/(2*math.pi)\n    return f\ndef time_p(omega):\n    time = (2*math.pi)/omega\n    return time\n\nw = 3*math.pi\n\nf = f(w)\nt = round(time_p(w),2)\nprint(\"The frequency of the motion is =\",f,\"Hz\")\nprint(\"The Time period of the motion is =\",t,\"rads/s\")\n",
      "metadata": {
        "trusted": true
      },
      "execution_count": 49,
      "outputs": [
        {
          "name": "stdout",
          "text": "The frequency of the motion is = 1.5 Hz\nThe Time period of the motion is = 0.67 rads/s\n",
          "output_type": "stream"
        }
      ]
    },
    {
      "cell_type": "markdown",
      "source": "## (c) the phase constant",
      "metadata": {}
    },
    {
      "cell_type": "code",
      "source": "print(\"The phase constant of the particle is = \", math.pi,\"rads\")",
      "metadata": {
        "trusted": true
      },
      "execution_count": 51,
      "outputs": [
        {
          "name": "stdout",
          "text": "The phase constant of the particle is =  3.141592653589793 rads\n",
          "output_type": "stream"
        }
      ]
    },
    {
      "cell_type": "markdown",
      "source": "## (d) the position of the particle at t = 0.250s.",
      "metadata": {}
    },
    {
      "cell_type": "code",
      "source": "def x(omega,time,max_x,fie):\n    x = round(max_x*math.cos(omega*time+fie),3)\n    return x\n\nfie = math.pi\nxm = 4\nt = 0.250\nw = 3*math.pi\n\nx = x(w,t,xm,fie)\nprint(\"The position of the particle at t = 0.250s is =\",x,\"m\")",
      "metadata": {
        "trusted": true
      },
      "execution_count": 54,
      "outputs": [
        {
          "name": "stdout",
          "text": "The position of the particle at t = 0.250s is = 2.828 m\n",
          "output_type": "stream"
        }
      ]
    },
    {
      "cell_type": "markdown",
      "source": "## 3. A simple harmonic oscillator takes 12.0 s to undergo five complete vibrations. Find (a) the period of its motion",
      "metadata": {}
    },
    {
      "cell_type": "code",
      "source": "total_time = 12\nno_vibrations = 5\n\nTime_period = total_time/no_vibrations\n\nprint(\"The time period of its motion is = \",Time_period,\"s\")",
      "metadata": {
        "trusted": true
      },
      "execution_count": 56,
      "outputs": [
        {
          "name": "stdout",
          "text": "The time period of its motion is =  2.4 s\n",
          "output_type": "stream"
        }
      ]
    },
    {
      "cell_type": "markdown",
      "source": "## (b) the frequency in hertz",
      "metadata": {}
    },
    {
      "cell_type": "code",
      "source": "frequency = round(1/Time_period,3)\nprint(\"The frequence is =\",frequency,\"Hz\")",
      "metadata": {
        "trusted": true
      },
      "execution_count": 59,
      "outputs": [
        {
          "name": "stdout",
          "text": "The frequence is = 0.417 Hz\n",
          "output_type": "stream"
        }
      ]
    },
    {
      "cell_type": "markdown",
      "source": "## (c) the angular frequency in radians per second.",
      "metadata": {}
    },
    {
      "cell_type": "code",
      "source": "w = round(2*math.pi*frequency,3)\nprint(\"The frequency is = \", w,\"radians/s\")",
      "metadata": {
        "trusted": true
      },
      "execution_count": 61,
      "outputs": [
        {
          "name": "stdout",
          "text": "The frequency is =  2.62 radians/s\n",
          "output_type": "stream"
        }
      ]
    },
    {
      "cell_type": "markdown",
      "source": "## 4. A 200-g block is attached to a horizontal spring and executes simple harmonic motion with a period of 0.250 s. If the total energy of the system is 2.00 J, find (a) the force constant of the spring",
      "metadata": {}
    },
    {
      "cell_type": "code",
      "source": "m = 200/1000\nT = 0.250\nE = 2\nw = 2*math.pi/T\n\nK = m*w**2\nprint(\"The force constant of the spring is =\",round(K,3))",
      "metadata": {
        "trusted": true
      },
      "execution_count": 63,
      "outputs": [
        {
          "name": "stdout",
          "text": "The force constant of the spring is = 126.331\n",
          "output_type": "stream"
        }
      ]
    },
    {
      "cell_type": "markdown",
      "source": "## (b) the amplitude of the motion",
      "metadata": {}
    },
    {
      "cell_type": "code",
      "source": "amplitude = round(math.sqrt(2*E/K),3)\nprint(\"The amplitude of the motion is = \",amplitude)",
      "metadata": {
        "trusted": true
      },
      "execution_count": 67,
      "outputs": [
        {
          "name": "stdout",
          "text": "The amplitude of the motion is =  0.178\n",
          "output_type": "stream"
        }
      ]
    },
    {
      "cell_type": "markdown",
      "source": "## 5. A 2.00-kg object is attached to a spring and placed on a horizontal, smooth surface. A horizontal force of 20.0 N is required to hold the object at rest when it is pulled 0.200 m from its equilibrium position (the origin of the x axis). The object is now released from rest with an initial position of xi = 0.200 m, and it subsequently undergoes simple harmonic oscillations. Find (a) the force constant of the spring",
      "metadata": {}
    },
    {
      "cell_type": "code",
      "source": "m = 2\nx = 0.2\nF = 20\nk = F/x\nprint(\"The force constant of the spring is =\",k, \"N/m\")",
      "metadata": {
        "trusted": true
      },
      "execution_count": 69,
      "outputs": [
        {
          "name": "stdout",
          "text": "The force constant of the spring is = 100.0 N/m\n",
          "output_type": "stream"
        }
      ]
    },
    {
      "cell_type": "markdown",
      "source": "## (b) the frequency of the oscillations",
      "metadata": {}
    },
    {
      "cell_type": "code",
      "source": "m = 2\nx = 0.2\nF = 20\nk = F/x\nw = math.sqrt(k/m)\n\nf = round(w/(2*math.pi),3)\nprint(\"The frequency of the oscillations is =\",f,\"Hz\") ",
      "metadata": {
        "trusted": true
      },
      "execution_count": 82,
      "outputs": [
        {
          "name": "stdout",
          "text": "The frequency of the oscillations is = 1.125 Hz\n",
          "output_type": "stream"
        }
      ]
    },
    {
      "cell_type": "markdown",
      "source": "## (c) the maximum speed of the object. Where does this maximum speed occur?",
      "metadata": {}
    },
    {
      "cell_type": "code",
      "source": "vmax = round(w*x,3)\nprint(\"The maximum speed of the object occurs at x = 0 which is =\",vmax,\"m/s\")",
      "metadata": {
        "trusted": true
      },
      "execution_count": 84,
      "outputs": [
        {
          "name": "stdout",
          "text": "The maximum speed of the object occurs at x = 0 which is = 1.414 m/s\n",
          "output_type": "stream"
        }
      ]
    },
    {
      "cell_type": "markdown",
      "source": "## (d) Find the maximum acceleration of the object. Where does it occur?",
      "metadata": {}
    },
    {
      "cell_type": "code",
      "source": "amax = round(w**2*x,3)\nprint(\"Maximum acceleration occurs at x = +-0.2 which is =\",amax,\"m/s^2\")",
      "metadata": {
        "trusted": true
      },
      "execution_count": 85,
      "outputs": [
        {
          "name": "stdout",
          "text": "Maximum acceleration occurs at x = +-0.2 which is = 10.0 m/s^2\n",
          "output_type": "stream"
        }
      ]
    },
    {
      "cell_type": "markdown",
      "source": "## (e) Find the total energy of the oscillating system.",
      "metadata": {}
    },
    {
      "cell_type": "code",
      "source": "E = 1/2*k*x**2\nprint(\"The total enegy of the oscillating system is =\",round(E,1),\"J\")",
      "metadata": {
        "trusted": true
      },
      "execution_count": 87,
      "outputs": [
        {
          "name": "stdout",
          "text": "The total enegy of the oscillating system is = 2.0 J\n",
          "output_type": "stream"
        }
      ]
    },
    {
      "cell_type": "markdown",
      "source": "## Find (f) the speed and (g) the acceleration of the object when its position is equal to one third of the maximum value.",
      "metadata": {}
    },
    {
      "cell_type": "code",
      "source": "v = round(1/3*vmax,2)\na = round(1/3*amax,2)\nprint(\"The speed of the position when its position is equal to one third of the maximum value is =\",v,\"m/s\")\nprint(\"The acceleration of the position when its position is equal to one third of the maximum value is =\",a,\"m/s^2\")",
      "metadata": {
        "trusted": true
      },
      "execution_count": 90,
      "outputs": [
        {
          "name": "stdout",
          "text": "The speed of the position when its position is equal to one third of the maximum value is = 0.47 m/s\nThe acceleration of the position when its position is equal to one third of the maximum value is = 3.33 m/s^2\n",
          "output_type": "stream"
        }
      ]
    },
    {
      "cell_type": "markdown",
      "source": "## 6. A 2.00-kg object attached to a spring moves without friction and is driven by an external force F = (3.00 N) sin(2π t). If the force constant of the spring is 20.0 N/m, determine (a) the period",
      "metadata": {}
    },
    {
      "cell_type": "code",
      "source": "m = 2\nk = 20\nw = 2*math.pi\n\nwnot = math.sqrt(k/m)\nT = round((2*math.pi)/wnot,1)\n\nprint(\"The time period is =\",T,\"s\")",
      "metadata": {
        "trusted": true
      },
      "execution_count": 93,
      "outputs": [
        {
          "name": "stdout",
          "text": "The time period is = 2.0 s\n",
          "output_type": "stream"
        }
      ]
    },
    {
      "cell_type": "markdown",
      "source": "## (b) the amplitude of the motion.",
      "metadata": {}
    },
    {
      "cell_type": "code",
      "source": "fmax=3\nx = (fmax/2)*(w**2-wnot**2)\nprint(\"The amplitude of the motion is =\",x,\"m\")",
      "metadata": {
        "trusted": true
      },
      "execution_count": 95,
      "outputs": [
        {
          "name": "stdout",
          "text": "The amplitude of the motion is = 44.21762640653615 m\n",
          "output_type": "stream"
        }
      ]
    },
    {
      "cell_type": "markdown",
      "source": "## 7. An 10.6-kg object oscillates at the end of a vertical spring which has a spring constant of 2.05 x 10 4 N/m. The effect of air resistance is represented by the damping coefficient b = 3.00 N·s/m. (a) Calculate the frequency of the damped oscillation",
      "metadata": {}
    },
    {
      "cell_type": "code",
      "source": "import math\n\nk = 2.05e4 # Spring constant\nm = 10.6 # Mass of object\nb = 3.00 # Damping coefficient\n\nwnot = math.sqrt(k/m)\nw = math.sqrt(wnot**2 - (b/(2*m))**2 )\nf = round(2*math.pi/w,2)\n\nprint(\"The frequency of the damped oscillation is =\",f,\"s\")\n\n",
      "metadata": {
        "trusted": true
      },
      "execution_count": 107,
      "outputs": [
        {
          "name": "stdout",
          "text": "The frequency of the damped oscillation is = 0.14 s\n",
          "output_type": "stream"
        }
      ]
    },
    {
      "cell_type": "markdown",
      "source": "## (b) By what percentage does the amplitude of the oscillation decrease in each cycle?",
      "metadata": {}
    },
    {
      "cell_type": "code",
      "source": "k = 2.05e4 # Spring constant\nm = 10.6 # Mass of object\nb = 3.00 # Damping coefficient\n\nT = (2*math.pi)/w\npercentage = (1-math.exp((-(b*T))/(2*m)))\npercentage = round(percentage * 100,2)\nprint(\"The amplitude decreases by\",percentage,\"% in each cycle\")",
      "metadata": {
        "trusted": true
      },
      "execution_count": 113,
      "outputs": [
        {
          "name": "stdout",
          "text": "The amplitude decreases by 2.0 % in each cycle\n",
          "output_type": "stream"
        }
      ]
    },
    {
      "cell_type": "markdown",
      "source": "## (c) Find the time interval that elapses while the energy of the system drops to 5.00% of its initial value.",
      "metadata": {}
    },
    {
      "cell_type": "code",
      "source": "t = (-(m)*math.log(0.05,math.e))/b\n\nt = round(t,2)\nprint(\"The time interval that elapses while the energy of the system drops to 5.00% of its initial value is = \",t,\"s\")",
      "metadata": {
        "trusted": true
      },
      "execution_count": 117,
      "outputs": [
        {
          "name": "stdout",
          "text": "The time interval that elapses while the energy of the system drops to 5.00% of its initial value is =  10.58 s\n",
          "output_type": "stream"
        }
      ]
    },
    {
      "cell_type": "markdown",
      "source": "## 8. What is the phase constant for the harmonic oscillator with the velocity function v(t) given in Fig-1 if the position function x(t) has the form\n## ![FIG10.PNG](attachment:fc3f8c89-9be1-488d-9dbf-7d359ad74540.PNG)\n## The vertical axis is set by vs = 4 cm/s",
      "metadata": {},
      "attachments": {
        "fc3f8c89-9be1-488d-9dbf-7d359ad74540.PNG": {
          "image/png": "[encoded data removed]"
        }
      }
    },
    {
      "cell_type": "code",
      "source": "# at t=0 V = Vs\ndef phase(V,Vm,t,w):\n    theta = math.asin(math.radians(-V/Vm)) - w*t\n    return theta\n\nV = 0.04\nVm = 0.05\nt = 0\n\nphase_constant = math.degrees(phase(V,Vm,t,0))\n\nprint(\"The phase constance for the harmonic oscillator is = \",round(phase_constant,2))",
      "metadata": {
        "trusted": true
      },
      "execution_count": 121,
      "outputs": [
        {
          "name": "stdout",
          "text": "The phase constance for the harmonic oscillator is =  -0.8\n",
          "output_type": "stream"
        }
      ]
    },
    {
      "cell_type": "markdown",
      "source": "## Fig-2 gives the one dimensional potential energy well for a 2.0 kg particle (the function U(x) has the form bx2 and the vertical axis scale is set by Us =2.0 J). (a) If the particle passes through the equilibrium position with a velocity of 85 cm/s, will it be turned back before it reaches x =15 cm? (b) If yes, at what position, and if no, what is the speed of the particle at x =15 cm?\n## ![fig11.PNG](attachment:6883c642-9476-4eb0-bcf0-6532f3fa919a.PNG)",
      "metadata": {},
      "attachments": {
        "6883c642-9476-4eb0-bcf0-6532f3fa919a.PNG": {
          "image/png": "[encoded data removed]"
        }
      }
    },
    {
      "cell_type": "code",
      "source": "m = 2\nv = 0.85\nb = 5e-3\n\nKE = 1/2*m*(v**2)\n\nx=round(math.sqrt(KE/b),2)\nprint(\"Mass turns back at x = \",x,\"cm\")",
      "metadata": {
        "trusted": true
      },
      "execution_count": 127,
      "outputs": [
        {
          "name": "stdout",
          "text": "Mass turns back at x =  12.02 cm\n",
          "output_type": "stream"
        }
      ]
    },
    {
      "cell_type": "code",
      "source": "",
      "metadata": {},
      "execution_count": null,
      "outputs": []
    }
  ]
}